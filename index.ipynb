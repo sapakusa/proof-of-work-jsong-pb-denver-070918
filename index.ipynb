{
 "cells": [
  {
   "cell_type": "markdown",
   "metadata": {},
   "source": [
    "# Proof of Work\n",
    "\n",
    "Proof-of-work is simply the double-sha256 of the block header. If this number, interpreted as a little-endian integer is lower than the target, we have a valid proof-of-work. If not, the block is not valid. Note that this is very easy to check. All we need to calculate is a single double-sha256 to check. On the other hand, creating the proof-of-work is really difficult. We would need to calculate on average X number of double-sha256 hashes at a difficulty of Y. This is what we would call an asymmetric problem and the reason why proof-of-work is an effective way to measure that the block producer has expended a sufficient amount of energy.\n",
    "\n",
    "There's a reason why this process is likened to mining. It takes roughly 2-90 tons of processing dirt and rock in order to find a single ounce of gold. In the same way, we have to process lots of numerical dirt and rock in order to find a proof-of-work. Proof-of-work is rare and uniformly distributed, making finding one just as difficult with one type of header versus another."
   ]
  },
  {
   "cell_type": "markdown",
   "metadata": {},
   "source": [
    "### Try it\n",
    "\n",
    "#### Validate the proof-of-work for this block\n",
    "```\n",
    "04000000fbedbbf0cfdaf278c094f187f2eb987c86a199da22bbb20400000000000000007b7697b29129648fa08b4bcd13c9d5e60abb973a1efac9c8d573c71c807c56c3d6213557faa80518c3737ec1\n",
    "```\n",
    "\n",
    "Check that the proof-of-work (double-sha256 interpreted as a little-endian number) is lower than the target."
   ]
  },
  {
   "cell_type": "code",
   "execution_count": 1,
   "metadata": {},
   "outputs": [
    {
     "name": "stdout",
     "output_type": "stream",
     "text": [
      "True\n"
     ]
    }
   ],
   "source": [
    "from io import BytesIO\n",
    "from helper import double_sha256, little_endian_to_int\n",
    "from block import Block\n",
    "\n",
    "hex_block = '04000000fbedbbf0cfdaf278c094f187f2eb987c86a199da22bbb20400000000000000007b7697b29129648fa08b4bcd13c9d5e60abb973a1efac9c8d573c71c807c56c3d6213557faa80518c3737ec1'\n",
    "\n",
    "# bytes.fromhex to get the binary block\n",
    "b = bytes.fromhex(hex_block)\n",
    "# make a stream using BytesIO\n",
    "s = BytesIO(b)\n",
    "# parse the Block\n",
    "block = Block.parse(s)\n",
    "\n",
    "# double_sha256 the serialization\n",
    "sha = double_sha256(block.serialize())\n",
    "# interpret the result as a number in little endian\n",
    "proof = little_endian_to_int(sha)\n",
    "# get the target\n",
    "target = block.target()\n",
    "# check proof of work < target\n",
    "print(proof < target)"
   ]
  },
  {
   "cell_type": "markdown",
   "metadata": {},
   "source": [
    "### Test Driven Exercise"
   ]
  },
  {
   "cell_type": "code",
   "execution_count": null,
   "metadata": {},
   "outputs": [],
   "source": [
    "from io import BytesIO\n",
    "from helper import double_sha256, little_endian_to_int\n",
    "from block import Block\n",
    "\n",
    "class Block(Block):\n",
    "    \n",
    "    def check_pow(self):\n",
    "        '''Returns whether this block satisfies proof of work'''\n",
    "        # get the double_sha256 of the serialization of this block\n",
    "        sha = double_sha256(self.serialize())\n",
    "        # interpret this hash as a little-endian number\n",
    "        proof = little_endian_to_int(sha)\n",
    "        # return whether this integer is less than the target\n",
    "        return ="
   ]
  }
 ],
 "metadata": {
  "kernelspec": {
   "display_name": "Python 3",
   "language": "python",
   "name": "python3"
  },
  "language_info": {
   "codemirror_mode": {
    "name": "ipython",
    "version": 3
   },
   "file_extension": ".py",
   "mimetype": "text/x-python",
   "name": "python",
   "nbconvert_exporter": "python",
   "pygments_lexer": "ipython3",
   "version": "3.6.4"
  }
 },
 "nbformat": 4,
 "nbformat_minor": 2
}
